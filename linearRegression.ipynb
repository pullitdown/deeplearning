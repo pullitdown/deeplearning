{
 "cells": [
  {
   "cell_type": "markdown",
   "source": [
    "主要介绍线性回归\r\n",
    "线性回归的主要组成是权重矩阵,而权重矩阵是大量的数据所训练或者说打磨而出\r\n",
    "通过得到的特征矩阵对往后的相同格式的数据进行预测,这就是线性回归\r\n",
    "\r\n",
    "定义特征矩阵X.shape()=n*d\r\n",
    "定义标签y为n*1\r\n",
    "定义权重矩阵W为d*1\r\n",
    "^y为预测值为n*1\r\n",
    "^y=X*W\r\n",
    "\r\n",
    "标准方程求损失函数最小值\r\n",
    "costfunction(W)=||y-X*W||^2\r\n",
    "||y-X*W||^2==sum( {y[i]-X[i] *W}^2,i=1..n)=\r\n",
    "对costfunction的W进行求导,求导值为0时,即为costfunction的最小值之处\r\n",
    "f(W)=sum( {y[i]-X[i] *W}^2,i=1..n)\r\n",
    "f'(W)=sum([ (y[i]-X[i] *W)^2]',i=1..n)\r\n",
    "f'(W)=sum([ (y[i]- sum(X[i][j] *W[j],j=1..d) )^2]',i=1..n)\r\n",
    "将所有的求和项展开\r\n",
    "对W进行求导并求和\r\n",
    "最后的导数式子为 X^T*X *W-X^T *y\r\n",
    "将这个式子设置为0,那么就求得\r\n",
    "X'*X *W=X' *y\r\n",
    "W=(X'*X)^-1 *X' *y\r\n",
    "特征矩阵为这个时,损失函数就是最小"
   ],
   "metadata": {}
  },
  {
   "cell_type": "markdown",
   "source": [
    "小批量随机梯度下降\r\n",
    "用所有数据中的几个,视为一小块整体\r\n",
    "以这块整体的数据进行求导计算,得到小块的梯度下降值\r\n",
    "再除以块内所含有的样本以及学习率step函数\r\n",
    "作为权重或者偏置项的更新值\r\n",
    "W=W-step/m*sum(X[i](X[i]*W+b-y),i=x..x+m)\r\n",
    "b=b-step/m*sum( (X[i] *W+b-y),i=x..x+m)\r\n",
    "\r\n",
    "其中step是学习率,m为小样本的样本个数,"
   ],
   "metadata": {}
  },
  {
   "cell_type": "code",
   "execution_count": 1,
   "source": [
    "import torch\r\n",
    "from d2l import torch as d2l"
   ],
   "outputs": [],
   "metadata": {}
  },
  {
   "cell_type": "code",
   "execution_count": 2,
   "source": [
    "print(torch.ones((3,1)))"
   ],
   "outputs": [
    {
     "output_type": "stream",
     "name": "stdout",
     "text": [
      "tensor([[1.],\n",
      "        [1.],\n",
      "        [1.]])\n"
     ]
    }
   ],
   "metadata": {}
  }
 ],
 "metadata": {
  "orig_nbformat": 4,
  "language_info": {
   "name": "python",
   "version": "3.8.5",
   "mimetype": "text/x-python",
   "codemirror_mode": {
    "name": "ipython",
    "version": 3
   },
   "pygments_lexer": "ipython3",
   "nbconvert_exporter": "python",
   "file_extension": ".py"
  },
  "kernelspec": {
   "name": "python3",
   "display_name": "Python 3.8.5 64-bit ('pytorch': conda)"
  },
  "interpreter": {
   "hash": "2651b5ef9a76fc3c7c68d712767f3ccc4f9b14ef7b49dbecd7e6bff4f9a25078"
  }
 },
 "nbformat": 4,
 "nbformat_minor": 2
}
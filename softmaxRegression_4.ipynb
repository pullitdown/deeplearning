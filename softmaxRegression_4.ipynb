{
 "cells": [
  {
   "cell_type": "code",
   "execution_count": 130,
   "source": [
    "import torch\r\n",
    "from d2l import torch as d2l\r\n",
    "from IPython import display\r\n",
    "\r\n",
    "batch_size = 256\r\n",
    "train_iter, test_iter = d2l.load_data_fashion_mnist(\r\n",
    "    batch_size)  #获得分类数据集,其中结果已经编码化,并且已经为小批量的数据集\r\n"
   ],
   "outputs": [],
   "metadata": {}
  },
  {
   "cell_type": "code",
   "execution_count": 131,
   "source": [
    "num_inputs=784\r\n",
    "num_outputs=10\r\n",
    "w=torch.normal(0,0.01,size=(num_inputs,num_outputs),requires_grad=True)\r\n",
    "b=torch.zeros(num_outputs,requires_grad=True)"
   ],
   "outputs": [],
   "metadata": {}
  },
  {
   "cell_type": "code",
   "execution_count": 132,
   "source": [
    "x=torch.tensor([[1.0,2.0,3.0],[4.0,5.0,6.]])\r\n",
    "x.sum(0,keepdim=True),x.sum(1,keepdim=True)"
   ],
   "outputs": [
    {
     "output_type": "execute_result",
     "data": {
      "text/plain": [
       "(tensor([[5., 7., 9.]]),\n",
       " tensor([[ 6.],\n",
       "         [15.]]))"
      ]
     },
     "metadata": {},
     "execution_count": 132
    }
   ],
   "metadata": {}
  },
  {
   "cell_type": "code",
   "execution_count": 133,
   "source": [
    "def softmax(x):#x是一个向量n*d\r\n",
    "    x_exp=x.exp()\r\n",
    "    partition=x_exp.sum(1,keepdim=True)#n*1\r\n",
    "    return x_exp/partition"
   ],
   "outputs": [],
   "metadata": {}
  },
  {
   "cell_type": "code",
   "execution_count": 134,
   "source": [
    "x=torch.normal(0,1,(2,5))\r\n",
    "x_prob=softmax(x)\r\n",
    "x_prob,x_prob.sum()"
   ],
   "outputs": [
    {
     "output_type": "execute_result",
     "data": {
      "text/plain": [
       "(tensor([[0.3487, 0.0526, 0.0809, 0.1685, 0.3493],\n",
       "         [0.4110, 0.2032, 0.0398, 0.2479, 0.0980]]),\n",
       " tensor(2.))"
      ]
     },
     "metadata": {},
     "execution_count": 134
    }
   ],
   "metadata": {}
  },
  {
   "cell_type": "code",
   "execution_count": 135,
   "source": [
    "def net(x):\r\n",
    "    return softmax(torch.matmul(x.reshape(-1,w.shape[0]),w)+b)\r\n"
   ],
   "outputs": [],
   "metadata": {}
  },
  {
   "cell_type": "code",
   "execution_count": 136,
   "source": [
    "y=torch.tensor([0,2])#torch.Tensor是表示torch.FloatTensor\r\n",
    "y_hat=torch.tensor([[0.1,0.3,0.6],[0.3,0.2,0.5]])\r\n",
    "y_hat[[0,1],y]"
   ],
   "outputs": [
    {
     "output_type": "execute_result",
     "data": {
      "text/plain": [
       "tensor([0.1000, 0.5000])"
      ]
     },
     "metadata": {},
     "execution_count": 136
    }
   ],
   "metadata": {}
  },
  {
   "cell_type": "code",
   "execution_count": 137,
   "source": [
    "def cross_entropy(y_hat,y):\r\n",
    "    return -torch.log(y_hat[:,y])\r\n",
    "\r\n",
    "cross_entropy(y_hat,y)"
   ],
   "outputs": [
    {
     "output_type": "execute_result",
     "data": {
      "text/plain": [
       "tensor([[2.3026, 0.5108],\n",
       "        [1.2040, 0.6931]])"
      ]
     },
     "metadata": {},
     "execution_count": 137
    }
   ],
   "metadata": {}
  },
  {
   "cell_type": "code",
   "execution_count": 138,
   "source": [
    "def accuracy(y_hat,y):#y_hat是预测的结果,y是已经编码的结果\r\n",
    "    if len(y_hat.shape)>1 and y_hat.shape[1]>1:\r\n",
    "        y_hat=y_hat.argmax(axis=1)\r\n",
    "    cmp=y_hat.type(y.dtype)==y\r\n",
    "    return float(cmp.type(y.dtype).sum())"
   ],
   "outputs": [],
   "metadata": {}
  },
  {
   "cell_type": "code",
   "execution_count": 139,
   "source": [
    "accuracy(y_hat,y)/len(y)"
   ],
   "outputs": [
    {
     "output_type": "execute_result",
     "data": {
      "text/plain": [
       "0.5"
      ]
     },
     "metadata": {},
     "execution_count": 139
    }
   ],
   "metadata": {}
  },
  {
   "cell_type": "code",
   "execution_count": 140,
   "source": [
    "from tqdm import tqdm\r\n",
    "def evaluate_accuracy(net,data_iter):\r\n",
    "    if isinstance(net,torch.nn.Module):\r\n",
    "        net.eval()\r\n",
    "    a=Accumulator(2)\r\n",
    "    for X,y in tqdm(data_iter):\r\n",
    "        a.add(accuracy(net(X),y),y.numel())#tensor.numel()返回tensor的元素个数\r\n",
    "    return a[0]/a[1]\r\n",
    "    "
   ],
   "outputs": [],
   "metadata": {}
  },
  {
   "cell_type": "code",
   "execution_count": 141,
   "source": [
    "class Accumulator():\r\n",
    "    def __init__(self,num):\r\n",
    "        self.data=[0.0]*num\r\n",
    "    def __getitem__(self,ind):\r\n",
    "        return self.data[ind]\r\n",
    "    def add(self,*argv):\r\n",
    "        self.data=[a+float(b) for a,b in zip(self.data,argv)]\r\n",
    "    def clear(self):\r\n",
    "        self.data=[0.0]*len(self.data)"
   ],
   "outputs": [],
   "metadata": {}
  },
  {
   "cell_type": "code",
   "execution_count": 142,
   "source": [
    "evaluate_accuracy(net,data_iter=test_iter)"
   ],
   "outputs": [
    {
     "output_type": "stream",
     "name": "stderr",
     "text": [
      "100%|██████████| 40/40 [00:02<00:00, 18.17it/s]\n"
     ]
    },
    {
     "output_type": "execute_result",
     "data": {
      "text/plain": [
       "0.1309"
      ]
     },
     "metadata": {},
     "execution_count": 142
    }
   ],
   "metadata": {}
  },
  {
   "cell_type": "code",
   "execution_count": null,
   "source": [],
   "outputs": [],
   "metadata": {}
  }
 ],
 "metadata": {
  "orig_nbformat": 4,
  "language_info": {
   "name": "python",
   "version": "3.8.5",
   "mimetype": "text/x-python",
   "codemirror_mode": {
    "name": "ipython",
    "version": 3
   },
   "pygments_lexer": "ipython3",
   "nbconvert_exporter": "python",
   "file_extension": ".py"
  },
  "kernelspec": {
   "name": "python3",
   "display_name": "Python 3.8.5 64-bit ('pytorch': conda)"
  },
  "interpreter": {
   "hash": "2651b5ef9a76fc3c7c68d712767f3ccc4f9b14ef7b49dbecd7e6bff4f9a25078"
  }
 },
 "nbformat": 4,
 "nbformat_minor": 2
}
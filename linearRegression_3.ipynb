{
 "cells": [
  {
   "cell_type": "code",
   "execution_count": 8,
   "source": [
    "import numpy as np\r\n",
    "import torch\r\n",
    "from torch.utils import data\r\n",
    "from d2l import torch as d2l\r\n",
    "\r\n",
    "true_w=torch.tensor([2,-3.4,10])\r\n",
    "true_b=4.2\r\n",
    "features,labels=d2l.synthetic_data(true_w,true_b,1000)"
   ],
   "outputs": [],
   "metadata": {}
  },
  {
   "cell_type": "code",
   "execution_count": 9,
   "source": [
    "def load_array(data_arrays,batch_size,is_train=True):\r\n",
    "    dataset=data.TensorDataset(*data_arrays)\r\n",
    "    return data.DataLoader(dataset,batch_size,shuffle=is_train)\r\n",
    "\r\n",
    "batch_size=10\r\n",
    "data_iter=load_array((features,labels),batch_size)"
   ],
   "outputs": [],
   "metadata": {}
  },
  {
   "cell_type": "code",
   "execution_count": 10,
   "source": [
    "next(iter(data_iter))"
   ],
   "outputs": [
    {
     "output_type": "execute_result",
     "data": {
      "text/plain": [
       "[tensor([[-1.2700e+00,  1.5788e+00, -7.4684e-01],\n",
       "         [ 8.0174e-01,  3.4844e-01,  1.2305e+00],\n",
       "         [-1.1478e-01,  6.5695e-01,  1.7239e+00],\n",
       "         [ 7.1516e-01,  4.1960e-01, -4.5695e-03],\n",
       "         [ 2.5292e-02,  4.9201e-02, -4.3734e-02],\n",
       "         [-8.5852e-03, -9.6888e-02,  1.9000e+00],\n",
       "         [ 1.2665e+00,  5.9544e-01,  5.3549e-01],\n",
       "         [-6.3871e-03,  1.2452e+00,  1.0925e+00],\n",
       "         [ 3.8767e-01,  7.7092e-01, -9.8902e-01],\n",
       "         [-1.1148e+00,  1.1836e-03,  6.2477e-01]]),\n",
       " tensor([[-11.1908],\n",
       "         [ 16.9344],\n",
       "         [ 18.9780],\n",
       "         [  4.1753],\n",
       "         [  3.6345],\n",
       "         [ 23.4874],\n",
       "         [ 10.0786],\n",
       "         [ 10.8889],\n",
       "         [ -7.5360],\n",
       "         [  8.2353]])]"
      ]
     },
     "metadata": {},
     "execution_count": 10
    }
   ],
   "metadata": {}
  },
  {
   "cell_type": "code",
   "execution_count": 12,
   "source": [
    "from torch import nn\r\n",
    "net=nn.Sequential(nn.Linear(3,1))#决定输入特征和输出特征的形状,都是n*1"
   ],
   "outputs": [],
   "metadata": {}
  },
  {
   "cell_type": "code",
   "execution_count": null,
   "source": [
    "net[0].weight.data.normal_(0,0.01)#因为均值为0,方差为0.01,说明生成的权重几乎全为0\r\n",
    "net[0].bias.data.fill_(0)"
   ],
   "outputs": [],
   "metadata": {}
  }
 ],
 "metadata": {
  "orig_nbformat": 4,
  "language_info": {
   "name": "python",
   "version": "3.8.5",
   "mimetype": "text/x-python",
   "codemirror_mode": {
    "name": "ipython",
    "version": 3
   },
   "pygments_lexer": "ipython3",
   "nbconvert_exporter": "python",
   "file_extension": ".py"
  },
  "kernelspec": {
   "name": "python3",
   "display_name": "Python 3.8.5 64-bit ('pytorch': conda)"
  },
  "interpreter": {
   "hash": "2651b5ef9a76fc3c7c68d712767f3ccc4f9b14ef7b49dbecd7e6bff4f9a25078"
  }
 },
 "nbformat": 4,
 "nbformat_minor": 2
}
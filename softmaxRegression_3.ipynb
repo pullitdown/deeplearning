{
 "cells": [
  {
   "cell_type": "code",
   "execution_count": 1,
   "source": [
    "import torch\r\n",
    "from IPython import display\r\n",
    "from d2l import torch as d2l\r\n",
    "\r\n",
    "\r\n",
    "batch_size=256\r\n",
    "train_iter,test_iter=d2l.load_data_fashion_mnist(batch_size)"
   ],
   "outputs": [],
   "metadata": {}
  },
  {
   "cell_type": "code",
   "execution_count": null,
   "source": [],
   "outputs": [],
   "metadata": {}
  },
  {
   "cell_type": "code",
   "execution_count": null,
   "source": [
    "num_imputs=784\r\n",
    "num_outputs=10\r\n"
   ],
   "outputs": [],
   "metadata": {}
  },
  {
   "cell_type": "code",
   "execution_count": null,
   "source": [
    "关于卷积神经网络构建思想的拓展和迁移\r\n",
    "向卷积神经网络输入一张图片,我们就能得到一列有特定含义的预测向量\r\n",
    "在神经网络的黑箱里,究竟发生了什么?\r\n",
    "在图片识别领域呼风唤雨的卷积思想,又是否能够迁移和拓展\r\n",
    "\r\n",
    "先从图片的卷积核开始\r\n",
    "当一个卷积核遍历整张图片,假如卷积核为3*3的kernel\r\n",
    "那么卷积核内的权重所做的事就是\r\n",
    "w[1][1]*(img[1][1]+img[1][2]....img[n-2][n-2])\r\n",
    "同理\r\n",
    "w[1][2]*(img[1][2]+img[1][3]....img[n-2][n-1])\r\n",
    "w[x][y]*(img[0+x][0+y]+....+img[n-3+x][n-3+y])\r\n",
    "所以所有的权重乘的是一张照片的不同部分,为什么这样就可以识别图片的内容呢\r\n",
    "然后得到一个区域的特征,再作为特征图\r\n",
    "\r\n",
    "从斜率来看,在kernel的不同权重中,相应的权重累计的梯度是 图片某一部分的像素的和\r\n",
    "而在计算下一轮的特征图来看,不同的特征点的值所代表意义,也会有差异\r\n",
    "如果这些差异满足一定的规律分布,是不是就代表这部分就是所要识别的东西\r\n",
    "按照这个思想,特征图也是图片,建立特征图的特征图,最后的特征图变为一个结果向量\r\n",
    "岂不是直接代表我们的识别结果吗\r\n",
    "这就是我的猜想\r\n",
    "\r\n",
    "而如何拓展呢\r\n",
    "我们可以看见,卷积的操作核心\r\n",
    "在于卷积的形式,它既可以体现一个区域的特点,也能使得图片逐步变小,最后变成一个一维的向量\r\n",
    "而这里的重点,又在如何体现区域的特点呢\r\n",
    "通过比对不同区域的相同和差异,将每一个权重都套在某一区域的位置上运算\r\n",
    "\r\n",
    "在永德的有245天数据预计未来24天销售情况的问题就可以运用这个卷积的思想\r\n",
    "70->24天\r\n",
    "即在不同的天数区间里,都与卷积核进行交互,而结果是在70后24的结果\r\n",
    "进行训练\r\n",
    "\r\n",
    "\r\n"
   ],
   "outputs": [],
   "metadata": {}
  }
 ],
 "metadata": {
  "orig_nbformat": 4,
  "language_info": {
   "name": "python",
   "version": "3.8.5",
   "mimetype": "text/x-python",
   "codemirror_mode": {
    "name": "ipython",
    "version": 3
   },
   "pygments_lexer": "ipython3",
   "nbconvert_exporter": "python",
   "file_extension": ".py"
  },
  "kernelspec": {
   "name": "python3",
   "display_name": "Python 3.8.5 64-bit ('pytorch': conda)"
  },
  "interpreter": {
   "hash": "2651b5ef9a76fc3c7c68d712767f3ccc4f9b14ef7b49dbecd7e6bff4f9a25078"
  }
 },
 "nbformat": 4,
 "nbformat_minor": 2
}